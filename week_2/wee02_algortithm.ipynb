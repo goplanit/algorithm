{
 "cells": [
  {
   "cell_type": "code",
   "execution_count": 1,
   "metadata": {},
   "outputs": [
    {
     "name": "stdout",
     "output_type": "stream",
     "text": [
      "hihihi <__main__.Person object at 0x7fc66228df10>\n",
      "유재석\n",
      "안녕하세요 저는 유재석 입니다\n",
      "hihihi <__main__.Person object at 0x7fc6623371c0>\n",
      "박명수\n",
      "안녕하세요 저는 박명수 입니다\n"
     ]
    }
   ],
   "source": [
    "# 클래스\n",
    "\n",
    "class Person:\n",
    "    def __init__(self, param_name):\n",
    "        print(\"hihihi\", self)\n",
    "        self.name = param_name\n",
    "\n",
    "    def talk(self):\n",
    "        print(\"안녕하세요 저는\", self.name, \"입니다\")\n",
    "\n",
    "\n",
    "person_1 = Person(\"유재석\")  # hihihi <__main__.Person object at 0x1067e6d60> 이 출력됩니다!\n",
    "print(person_1.name)  # 유재석\n",
    "person_1.talk()  # 안녕하세요 저는 유재석 입니다\n",
    "\n",
    "person_2 = Person(\"박명수\")  # # hihihi <__main__.Person object at 0x106851550> 이 출력됩니다!\n",
    "print(person_2.name)  # 박명수\n",
    "person_2.talk()  # 안녕하세요 저는 박명수 입니다"
   ]
  },
  {
   "cell_type": "code",
   "execution_count": null,
   "metadata": {},
   "outputs": [],
   "source": [
    "class Node:\n",
    "    def __init__(self, data):\n",
    "        self.data = data\n",
    "        self.next = None\n",
    "\n",
    "\n",
    "class LinkedList:\n",
    "    def __init__(self, value):\n",
    "        self.head = Node(value)\n",
    "\n",
    "    def append(self, value):\n",
    "        cur = self.head\n",
    "        while cur.next is not None:\n",
    "            cur = cur.next\n",
    "        cur.next = Node(value)\n",
    "\n",
    "    def print_all(self):\n",
    "        cur = self.head\n",
    "        while cur is not None:\n",
    "            print(cur.data)\n",
    "            cur = cur.next\n",
    "\n",
    "    def get_node(self, index):\n",
    "        return \"index 번째 노드를 반환해보세요!\"\n",
    "\n",
    "linked_list = LinkedList(5)\n",
    "linked_list.append(12)\n",
    "linked_list.get_node(0) # -> 5를 들고 있는 노드를 반환해야 합니다!"
   ]
  },
  {
   "cell_type": "code",
   "execution_count": null,
   "metadata": {},
   "outputs": [],
   "source": [
    "def get_linked_list_sum(linked_list_1, linked_list_2):\n",
    "    \t\tsum_1 = 0\n",
    "    head_1 = linked_list_1.head\n",
    "    while head_1 is not None:\n",
    "        sum_1 = sum_1 * 10 + head_1.data\n",
    "        head_1 = head_1.next\n",
    "\n",
    "    sum_2 = 0\n",
    "    head_2 = linked_list_2.head\n",
    "    while head_2 is not None:\n",
    "        sum_2 = sum_2 * 10 + head_2.data\n",
    "        head_2 = head_2.next\n",
    "\n",
    "    return sum_1 + sum_2\n"
   ]
  },
  {
   "cell_type": "code",
   "execution_count": null,
   "metadata": {},
   "outputs": [],
   "source": [
    "def get_linked_list_sum(linked_list_1, linked_list_2):\n",
    "    sum_1 = _get_linked_list_sum(linked_list_1)\n",
    "    sum_2 = _get_linked_list_sum(linked_list_2)\n",
    "\n",
    "    return sum_1 + sum_2\n",
    "\n",
    "\n",
    "def _get_linked_list_sum(linked_list):\n",
    "    sum = 0\n",
    "    head = linked_list.head\n",
    "    while head is not None:\n",
    "        sum = sum * 10 + head.data\n",
    "        head = head.next\n",
    "    return sum"
   ]
  },
  {
   "cell_type": "code",
   "execution_count": null,
   "metadata": {},
   "outputs": [],
   "source": [
    "def factorial(n):\n",
    "    if n == 1:\n",
    "        return 1\n",
    "    return n * factorial(n - 1)\n",
    "\n",
    "\n",
    "print(factorial(60))"
   ]
  },
  {
   "cell_type": "code",
   "execution_count": null,
   "metadata": {},
   "outputs": [],
   "source": [
    "input = \"abcba\"\n",
    "\n",
    "\n",
    "def is_palindrome(string):\n",
    "    if len(string) <= 1:\n",
    "        return True\n",
    "    if string[0] != string[-1]:\n",
    "        return False\n",
    "    return is_palindrome(string[1:-1])\n",
    "\n",
    "\n",
    "print(is_palindrome(input))"
   ]
  }
 ],
 "metadata": {
  "interpreter": {
   "hash": "ec5c6e6e6bfba3952cccd89666062e7e0fa2b93f224830169b53a1627009aaa9"
  },
  "kernelspec": {
   "display_name": "Python 3.8.5 64-bit ('base': conda)",
   "name": "python3"
  },
  "language_info": {
   "name": "python",
   "version": ""
  },
  "orig_nbformat": 4
 },
 "nbformat": 4,
 "nbformat_minor": 2
}