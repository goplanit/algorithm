{
 "cells": [
  {
   "cell_type": "code",
   "execution_count": 11,
   "metadata": {},
   "outputs": [
    {
     "name": "stdout",
     "output_type": "stream",
     "text": [
      "True\n"
     ]
    }
   ],
   "source": [
    "input = [3, 5, 6, 1, 2, 4]\n",
    "\n",
    "def is_number_exist(number, array):\n",
    "    for num in array:\n",
    "        if number == num:\n",
    "            return True\n",
    "\n",
    "    return False\n",
    "\n",
    "result = is_number_exist(3, input)\n",
    "print(result)"
   ]
  },
  {
   "cell_type": "code",
   "execution_count": 12,
   "metadata": {},
   "outputs": [
    {
     "name": "stdout",
     "output_type": "stream",
     "text": [
      "728\n"
     ]
    }
   ],
   "source": [
    "input = [0, 3, 5, 6, 1, 2, 4]\n",
    "\n",
    "def find_max_plus_or_multiply(array):\n",
    "    multiply_sum = 0\n",
    "    for number in array:\n",
    "        if number <= 1 or multiply_sum <= 1:\n",
    "            multiply_sum += number\n",
    "        else:\n",
    "            multiply_sum *= number\n",
    "    return multiply_sum\n",
    "\n",
    "result = find_max_plus_or_multiply(input)\n",
    "print(result)"
   ]
  },
  {
   "cell_type": "code",
   "execution_count": 16,
   "metadata": {},
   "outputs": [
    {
     "name": "stdout",
     "output_type": "stream",
     "text": [
      "<function find_not_repeating_first_character at 0x7faff50bfaf0>\n",
      "정답 = d 현재 풀이 값 = d\n",
      "정답 = c 현재 풀이 값 = c\n",
      "정답 =_ 현재 풀이 값 = _\n"
     ]
    }
   ],
   "source": [
    "def find_not_repeating_first_character(string):\n",
    "    alphabet_occurrence_array = [0] * 26\n",
    "\n",
    "    for char in string:\n",
    "        if not char.isalpha():\n",
    "            continue\n",
    "        arr_index = ord(char) - ord(\"a\")\n",
    "        alphabet_occurrence_array[arr_index] += 1\n",
    "\n",
    "    not_repeating_character_array = []\n",
    "    for index in range(len(alphabet_occurrence_array)):\n",
    "        alphabet_occurrence = alphabet_occurrence_array[index]\n",
    "\n",
    "        if alphabet_occurrence == 1:\n",
    "            not_repeating_character_array.append(chr(index + ord(\"a\")))\n",
    "\n",
    "    for char in string:\n",
    "        if char in not_repeating_character_array:\n",
    "            return char\n",
    "\n",
    "    return \"_\"\n",
    "\n",
    "\n",
    "result = find_not_repeating_first_character\n",
    "print(\"정답 = d 현재 풀이 값 =\", result(\"abadabac\"))\n",
    "print(\"정답 = c 현재 풀이 값 =\", result(\"aabbcddd\"))\n",
    "print(\"정답 =_ 현재 풀이 값 =\", result(\"aaaaaaaa\"))"
   ]
  },
  {
   "cell_type": "code",
   "execution_count": 21,
   "metadata": {},
   "outputs": [
    {
     "name": "stdout",
     "output_type": "stream",
     "text": [
      "[2, 3, 5, 7, 11, 13, 17, 19]\n"
     ]
    }
   ],
   "source": [
    "input = 20\n",
    "\n",
    "def find_prime_list_under_number(number):\n",
    "    decimal = []\n",
    "\n",
    "    for num in range(2, number + 1):\n",
    "        for i in range(2, num):\n",
    "            if num % i == 0:\n",
    "                break\n",
    "        else:\n",
    "            decimal.append(num)\n",
    "    return decimal \n",
    "        \n",
    "result = find_prime_list_under_number(input)\n",
    "print(result)\n",
    "\n"
   ]
  },
  {
   "cell_type": "code",
   "execution_count": 22,
   "metadata": {},
   "outputs": [
    {
     "name": "stdout",
     "output_type": "stream",
     "text": [
      "1\n"
     ]
    }
   ],
   "source": [
    "input = \"011110\"\n",
    "\n",
    "\n",
    "def find_count_to_turn_out_to_all_zero_or_all_one(string):\n",
    "    count_to_all_zero = 0\n",
    "    count_to_all_one = 0\n",
    "\n",
    "    if string[0] == '0':\n",
    "        count_to_all_one += 1\n",
    "    elif string[0] == '1':\n",
    "        count_to_all_zero += 1\n",
    "\n",
    "    for i in range(len(string) - 1):\n",
    "        if string[i] != string[i + 1]:\n",
    "            if string[i + 1] == '0':\n",
    "                count_to_all_one += 1\n",
    "            if string[i + 1] == '1':\n",
    "                count_to_all_zero += 1\n",
    "\n",
    "    return min(count_to_all_one, count_to_all_zero)\n",
    "\n",
    "\n",
    "result = find_count_to_turn_out_to_all_zero_or_all_one(input)\n",
    "print(result)"
   ]
  }
 ],
 "metadata": {
  "interpreter": {
   "hash": "ec5c6e6e6bfba3952cccd89666062e7e0fa2b93f224830169b53a1627009aaa9"
  },
  "kernelspec": {
   "display_name": "Python 3.8.5 64-bit ('base': conda)",
   "name": "python3"
  },
  "language_info": {
   "name": "python",
   "version": ""
  },
  "orig_nbformat": 4
 },
 "nbformat": 4,
 "nbformat_minor": 2
}